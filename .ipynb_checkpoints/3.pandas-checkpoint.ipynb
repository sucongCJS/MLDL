{
 "cells": [
  {
   "cell_type": "markdown",
   "metadata": {},
   "source": [
    "# Pandas 基本用法\n",
    "[原文](https://blog.csdn.net/cxmscb/article/details/54632492)"
   ]
  },
  {
   "cell_type": "markdown",
   "metadata": {},
   "source": [
    "## 数据结构Series"
   ]
  },
  {
   "cell_type": "code",
   "execution_count": 1,
   "metadata": {},
   "outputs": [],
   "source": [
    "import pandas as pd\n",
    "from pandas import Series, DataFrame"
   ]
  },
  {
   "cell_type": "code",
   "execution_count": 3,
   "metadata": {},
   "outputs": [
    {
     "data": {
      "text/plain": [
       "0    1\n",
       "1    2\n",
       "2    3\n",
       "3    4\n",
       "dtype: int64"
      ]
     },
     "execution_count": 3,
     "metadata": {},
     "output_type": "execute_result"
    }
   ],
   "source": [
    "x = Series([1,2,3,4])\n",
    "x"
   ]
  },
  {
   "cell_type": "code",
   "execution_count": 6,
   "metadata": {},
   "outputs": [
    {
     "name": "stdout",
     "output_type": "stream",
     "text": [
      "[1 2 3 4]\n",
      "RangeIndex(start=0, stop=4, step=1)\n"
     ]
    }
   ],
   "source": [
    "print(x.values)\n",
    "print(x.index)"
   ]
  },
  {
   "cell_type": "code",
   "execution_count": 8,
   "metadata": {},
   "outputs": [
    {
     "name": "stdout",
     "output_type": "stream",
     "text": [
      "a    1\n",
      "b    2\n",
      "c    3\n",
      "d    4\n",
      "dtype: int64\n"
     ]
    }
   ],
   "source": [
    "x = Series([1,2,3,4], index=['a', 'b', 'c', 'd'])\n",
    "print(x)"
   ]
  },
  {
   "cell_type": "code",
   "execution_count": 11,
   "metadata": {},
   "outputs": [
    {
     "name": "stdout",
     "output_type": "stream",
     "text": [
      "c    3\n",
      "a    1\n",
      "b    2\n",
      "dtype: int64\n",
      "c    3\n",
      "d    4\n",
      "dtype: int64\n"
     ]
    }
   ],
   "source": [
    "print(x[['c', 'a', 'b']]) # 花式索引\n",
    "print(x[x>2]) # 布尔索引"
   ]
  },
  {
   "cell_type": "code",
   "execution_count": 13,
   "metadata": {},
   "outputs": [
    {
     "name": "stdout",
     "output_type": "stream",
     "text": [
      "a    1\n",
      "b    2\n",
      "d    3\n",
      "c    4\n",
      "dtype: int64\n"
     ]
    }
   ],
   "source": [
    "# 使用字典来生成Series\n",
    "data = {'a':1, 'b':2, 'd':3, 'c':4}\n",
    "x = Series(data)\n",
    "print(x)"
   ]
  },
  {
   "cell_type": "code",
   "execution_count": 14,
   "metadata": {},
   "outputs": [
    {
     "name": "stdout",
     "output_type": "stream",
     "text": [
      "a    1.0\n",
      "b    2.0\n",
      "e    NaN\n",
      "dtype: float64\n"
     ]
    }
   ],
   "source": [
    "# 使用字典生成Series,并指定额外的index，不匹配的索引部分数据为NaN\n",
    "data = {'a':1, 'b':2, 'd':3, 'c':4}\n",
    "y = Series(data, index=['a', 'b', 'e'])\n",
    "print(y)"
   ]
  },
  {
   "cell_type": "code",
   "execution_count": 15,
   "metadata": {},
   "outputs": [
    {
     "name": "stdout",
     "output_type": "stream",
     "text": [
      "a    2.0\n",
      "b    4.0\n",
      "c    NaN\n",
      "d    NaN\n",
      "e    NaN\n",
      "dtype: float64\n"
     ]
    }
   ],
   "source": [
    "# Series相加，相同行索引相加，不同行索引则数值为NaN\n",
    "print(x+y)"
   ]
  },
  {
   "cell_type": "code",
   "execution_count": 16,
   "metadata": {},
   "outputs": [
    {
     "name": "stdout",
     "output_type": "stream",
     "text": [
      "letter\n",
      "a    1.0\n",
      "b    2.0\n",
      "e    NaN\n",
      "Name: weight of letters, dtype: float64\n"
     ]
    }
   ],
   "source": [
    "# 指定Series/索引的名字\n",
    "y.name = \"weight of letters\"\n",
    "y.index.name = \"letter\"\n",
    "print(y)"
   ]
  },
  {
   "cell_type": "markdown",
   "metadata": {},
   "source": [
    "## 数据结构DataFrame"
   ]
  },
  {
   "cell_type": "code",
   "execution_count": 18,
   "metadata": {},
   "outputs": [
    {
     "name": "stdout",
     "output_type": "stream",
     "text": [
      "  state  year  pop\n",
      "0    ok  2000  3.7\n",
      "1    ok  2001  3.6\n",
      "2  good  2002  2.4\n",
      "3   bad  2003  0.9\n"
     ]
    }
   ],
   "source": [
    "# 使用字典生成DataFrame，key为列名字\n",
    "data = {'state':['ok', 'ok', 'good', 'bad'],\n",
    "        'year':[2000, 2001, 2002, 2003],\n",
    "        'pop':[3.7, 3.6, 2.4, 0.9]}\n",
    "print(DataFrame(data))"
   ]
  },
  {
   "cell_type": "code",
   "execution_count": 23,
   "metadata": {},
   "outputs": [
    {
     "name": "stdout",
     "output_type": "stream",
     "text": [
      "       year state  pop debt\n",
      "one    2000    ok  3.7  NaN\n",
      "two    2001    ok  3.6  NaN\n",
      "three  2002  good  2.4  NaN\n",
      "four   2003   bad  0.9  NaN\n"
     ]
    }
   ],
   "source": [
    "x = DataFrame(data, columns=['year', 'state', 'pop', 'debt'], index=['one', 'two', 'three', 'four'])\n",
    "print(x)"
   ]
  },
  {
   "cell_type": "code",
   "execution_count": 25,
   "metadata": {},
   "outputs": [
    {
     "name": "stdout",
     "output_type": "stream",
     "text": [
      "one      NaN\n",
      "two      NaN\n",
      "three    NaN\n",
      "four     NaN\n",
      "Name: debt, dtype: object\n"
     ]
    }
   ],
   "source": [
    "print(x['debt'])"
   ]
  },
  {
   "cell_type": "code",
   "execution_count": 28,
   "metadata": {},
   "outputs": [
    {
     "name": "stdout",
     "output_type": "stream",
     "text": [
      "year     2002\n",
      "state    good\n",
      "pop       2.4\n",
      "debt      NaN\n",
      "Name: three, dtype: object\n"
     ]
    }
   ],
   "source": [
    "print(x.loc['three']) # 用.loc[]来索引 一列"
   ]
  },
  {
   "cell_type": "code",
   "execution_count": 30,
   "metadata": {},
   "outputs": [
    {
     "name": "stdout",
     "output_type": "stream",
     "text": [
      "       year state  pop  debt\n",
      "one    2000    ok  3.7  16.6\n",
      "two    2001    ok  3.6  16.6\n",
      "three  2002  good  2.4  16.6\n",
      "four   2003   bad  0.9  16.6\n"
     ]
    }
   ],
   "source": [
    "x['debt'] = 16.6\n",
    "print(x)"
   ]
  },
  {
   "cell_type": "code",
   "execution_count": 33,
   "metadata": {},
   "outputs": [
    {
     "name": "stdout",
     "output_type": "stream",
     "text": [
      "       year state  pop  debt\n",
      "one    2000    ok  3.7  -1.2\n",
      "two    2001    ok  3.6  -1.5\n",
      "three  2002  good  2.4   1.7\n",
      "four   2003   bad  0.9   NaN\n"
     ]
    }
   ],
   "source": [
    "# 用Series修改元素，没有指定的默认数据用NaN\n",
    "val = Series([-1.2, -1.5, 1.7,0], index = ['one', 'two', 'three','six']) \n",
    "x.debt = val # DataFrame的行索引不变\n",
    "print(x)"
   ]
  },
  {
   "cell_type": "code",
   "execution_count": 34,
   "metadata": {},
   "outputs": [
    {
     "name": "stdout",
     "output_type": "stream",
     "text": [
      "       year state  pop  debt   gain\n",
      "one    2000    ok  3.7  -1.2  False\n",
      "two    2001    ok  3.6  -1.5  False\n",
      "three  2002  good  2.4   1.7   True\n",
      "four   2003   bad  0.9   NaN  False\n"
     ]
    }
   ],
   "source": [
    "# 添加列\n",
    "x['gain'] = (x.debt > 0)\n",
    "print(x)"
   ]
  },
  {
   "cell_type": "markdown",
   "metadata": {},
   "source": [
    "## numpy在Series/DataFrame的应用"
   ]
  },
  {
   "cell_type": "code",
   "execution_count": 36,
   "metadata": {},
   "outputs": [
    {
     "name": "stdout",
     "output_type": "stream",
     "text": [
      "   A  B  C\n",
      "a  0  1  2\n",
      "b  3  4  5\n",
      "c  6  7  8\n"
     ]
    }
   ],
   "source": [
    "import numpy as np\n",
    "frame = DataFrame(np.arange(9).reshape(3, 3), columns=['A','B','C'], index=['a','b','c'])\n",
    "print(frame)"
   ]
  },
  {
   "cell_type": "code",
   "execution_count": 44,
   "metadata": {},
   "outputs": [
    {
     "name": "stdout",
     "output_type": "stream",
     "text": [
      "<class 'pandas.core.series.Series'>\n",
      "A    0\n",
      "B    1\n",
      "C    2\n",
      "Name: a, dtype: int32\n",
      "<class 'pandas.core.series.Series'>\n",
      "a    0\n",
      "b    3\n",
      "c    6\n",
      "Name: A, dtype: int32\n"
     ]
    }
   ],
   "source": [
    "series = frame.loc['a']\n",
    "print(type(series))\n",
    "print(series)\n",
    "series = frame.A\n",
    "print(type(series))\n",
    "print(series)"
   ]
  },
  {
   "cell_type": "code",
   "execution_count": 45,
   "metadata": {},
   "outputs": [
    {
     "data": {
      "text/plain": [
       "A    6\n",
       "B    7\n",
       "C    8\n",
       "dtype: int32"
      ]
     },
     "execution_count": 45,
     "metadata": {},
     "output_type": "execute_result"
    }
   ],
   "source": [
    "frame.max()"
   ]
  },
  {
   "cell_type": "markdown",
   "metadata": {},
   "source": [
    "### lambda的应用"
   ]
  },
  {
   "cell_type": "code",
   "execution_count": 47,
   "metadata": {},
   "outputs": [
    {
     "name": "stdout",
     "output_type": "stream",
     "text": [
      "A    6\n",
      "B    7\n",
      "C    8\n",
      "dtype: int32\n",
      "A    0\n",
      "B    1\n",
      "C    2\n",
      "dtype: int32\n"
     ]
    }
   ],
   "source": [
    "print(frame.max())\n",
    "print(frame.min())"
   ]
  },
  {
   "cell_type": "code",
   "execution_count": 48,
   "metadata": {},
   "outputs": [
    {
     "name": "stdout",
     "output_type": "stream",
     "text": [
      "A    6\n",
      "B    6\n",
      "C    6\n",
      "dtype: int64\n"
     ]
    }
   ],
   "source": [
    "f = lambda x: x.max() - x.min()\n",
    "print(frame.apply(f)) # 作用到每一列"
   ]
  },
  {
   "cell_type": "code",
   "execution_count": 50,
   "metadata": {},
   "outputs": [
    {
     "name": "stdout",
     "output_type": "stream",
     "text": [
      "a    2\n",
      "b    2\n",
      "c    2\n",
      "dtype: int64\n"
     ]
    }
   ],
   "source": [
    "print(frame.apply(f, axis=1)) # 作用到每一行"
   ]
  },
  {
   "cell_type": "code",
   "execution_count": 51,
   "metadata": {},
   "outputs": [
    {
     "name": "stdout",
     "output_type": "stream",
     "text": [
      "     A  B  C\n",
      "min  0  1  2\n",
      "max  6  7  8\n"
     ]
    }
   ],
   "source": [
    "def f(x): # Series的元素的类型为Series\n",
    "    return Series([x.min(), x.max()], index = ['min', 'max'])\n",
    "print(frame.apply(f))"
   ]
  },
  {
   "cell_type": "code",
   "execution_count": 52,
   "metadata": {},
   "outputs": [
    {
     "name": "stdout",
     "output_type": "stream",
     "text": [
      "      A     B     C\n",
      "a  0.00  1.00  2.00\n",
      "b  3.00  4.00  5.00\n",
      "c  6.00  7.00  8.00\n"
     ]
    }
   ],
   "source": [
    "# applymap 和 map 作用到每一个元素\n",
    "_format = lambda x: '%.2f' % x\n",
    "print(frame.applymap(_format)) # 针对DataFrame"
   ]
  },
  {
   "cell_type": "code",
   "execution_count": 53,
   "metadata": {},
   "outputs": [
    {
     "name": "stdout",
     "output_type": "stream",
     "text": [
      "a    0.00\n",
      "b    3.00\n",
      "c    6.00\n",
      "Name: A, dtype: object\n",
      "a    0.00\n",
      "b    3.00\n",
      "c    6.00\n",
      "Name: A, dtype: object\n"
     ]
    }
   ],
   "source": [
    "print(frame['A'].map(_format)) # 针对Series\n",
    "print(frame.A.map(_format)) # 针对Series"
   ]
  },
  {
   "cell_type": "code",
   "execution_count": null,
   "metadata": {},
   "outputs": [],
   "source": []
  }
 ],
 "metadata": {
  "kernelspec": {
   "display_name": "Python 3",
   "language": "python",
   "name": "python3"
  },
  "language_info": {
   "codemirror_mode": {
    "name": "ipython",
    "version": 3
   },
   "file_extension": ".py",
   "mimetype": "text/x-python",
   "name": "python",
   "nbconvert_exporter": "python",
   "pygments_lexer": "ipython3",
   "version": "3.7.3"
  }
 },
 "nbformat": 4,
 "nbformat_minor": 2
}
