{
 "cells": [
  {
   "cell_type": "markdown",
   "metadata": {},
   "source": [
    "# 数值归一化\n",
    "因为较小的可能会被较大的数据所主导, 所以要将所有数据映射到同一尺度上"
   ]
  },
  {
   "cell_type": "markdown",
   "metadata": {},
   "source": [
    "## 最值归一化 normalization\n",
    "把所有数据映射到0~1之间    \n",
    "$x_{scale} = \\frac{x - x_{min}}{x_{max} - x_{max}}$    \n",
    "适用于:\n",
    "- 分布有明显边界的情况(如分数, 像素)\n",
    "- 受outlier(异常点)影响较大(例如有一个特别大的, 那么其他小的都会集中在0左右)"
   ]
  },
  {
   "cell_type": "code",
   "execution_count": 167,
   "metadata": {},
   "outputs": [
    {
     "name": "stdout",
     "output_type": "stream",
     "text": [
      "[ 3 31 46 12 72 35 33 92 81 37 14 78 16 46 65 59 29 79 28 63 80 76 72  9\n",
      " 26 76 97 32 82 28 18 54 19 92  5  7 71 53 51 16 56 52 40 15 14 71 47 62\n",
      "  0 13 27 10 96 96 94 69 68 63 72 37 60 74 40 29 76 56 82 58  6 39 73  6\n",
      " 53 88 40 34 72 32 94 28 38 94 83 13 97 92 30 91 95 95 72 32 20 97 21 31\n",
      " 24 58 88 15]\n"
     ]
    }
   ],
   "source": [
    "import numpy as np\n",
    "x = np.random.randint(0, 100, size=100)\n",
    "print(x)"
   ]
  },
  {
   "cell_type": "code",
   "execution_count": 168,
   "metadata": {},
   "outputs": [],
   "source": [
    "x_min = np.min(x)\n",
    "x_max = np.max(x)\n",
    "normal_x = np.array([(each-x_min)/(x_max - x_min) for each in x])"
   ]
  },
  {
   "cell_type": "code",
   "execution_count": 169,
   "metadata": {},
   "outputs": [
    {
     "name": "stdout",
     "output_type": "stream",
     "text": [
      "[0.03092784 0.31958763 0.4742268  0.12371134 0.74226804 0.36082474\n",
      " 0.34020619 0.94845361 0.83505155 0.3814433  0.1443299  0.80412371\n",
      " 0.16494845 0.4742268  0.67010309 0.60824742 0.29896907 0.81443299\n",
      " 0.28865979 0.64948454 0.82474227 0.78350515 0.74226804 0.09278351\n",
      " 0.26804124 0.78350515 1.         0.32989691 0.84536082 0.28865979\n",
      " 0.18556701 0.55670103 0.19587629 0.94845361 0.05154639 0.07216495\n",
      " 0.73195876 0.54639175 0.5257732  0.16494845 0.57731959 0.53608247\n",
      " 0.41237113 0.15463918 0.1443299  0.73195876 0.48453608 0.63917526\n",
      " 0.         0.13402062 0.27835052 0.10309278 0.98969072 0.98969072\n",
      " 0.96907216 0.71134021 0.70103093 0.64948454 0.74226804 0.3814433\n",
      " 0.6185567  0.7628866  0.41237113 0.29896907 0.78350515 0.57731959\n",
      " 0.84536082 0.59793814 0.06185567 0.40206186 0.75257732 0.06185567\n",
      " 0.54639175 0.90721649 0.41237113 0.35051546 0.74226804 0.32989691\n",
      " 0.96907216 0.28865979 0.39175258 0.96907216 0.8556701  0.13402062\n",
      " 1.         0.94845361 0.30927835 0.93814433 0.97938144 0.97938144\n",
      " 0.74226804 0.32989691 0.20618557 1.         0.21649485 0.31958763\n",
      " 0.24742268 0.59793814 0.90721649 0.15463918]\n"
     ]
    }
   ],
   "source": [
    "print(normal_x)"
   ]
  },
  {
   "cell_type": "markdown",
   "metadata": {},
   "source": [
    "## 均值方差归一化 standardization\n",
    "把所有数据归一到均值为0方差为1的分布中    \n",
    "$x_{scale} = \\frac{x - x_{mean}}{S}$(标准正太化?)     \n",
    "适用于:\n",
    "- 数据没有明显边界\n",
    "- 可能存在极端数据值"
   ]
  },
  {
   "cell_type": "code",
   "execution_count": 219,
   "metadata": {},
   "outputs": [
    {
     "name": "stdout",
     "output_type": "stream",
     "text": [
      "[45.02 45.4 ]\n",
      "[45.02 45.4 ]\n"
     ]
    }
   ],
   "source": [
    "X = np.random.randint(0, 100, (50, 2))\n",
    "X = np.array(X, dtype=float)\n",
    "print(np.array([np.mean(X[:,i]) for i in range(X.shape[1])]))\n",
    "print(np.mean(X, axis=0))"
   ]
  },
  {
   "cell_type": "code",
   "execution_count": null,
   "metadata": {},
   "outputs": [],
   "source": [
    "X[:,0] = (X[:,0] - np.mean(X[:,0]))/np.std(X[:,0])\n",
    "X[:,1] = (X[:,1] - np.mean(X[:,1]))/np.std(X[:,1])"
   ]
  },
  {
   "cell_type": "code",
   "execution_count": 171,
   "metadata": {},
   "outputs": [
    {
     "data": {
      "image/png": "[encoded data removed]",
      "text/plain": [
       "<Figure size 432x288 with 1 Axes>"
      ]
     },
     "metadata": {
      "needs_background": "light"
     },
     "output_type": "display_data"
    }
   ],
   "source": [
    "import matplotlib.pyplot as plt\n",
    "plt.scatter(X[:,0], X[:,1])\n",
    "plt.show()"
   ]
  },
  {
   "cell_type": "code",
   "execution_count": 172,
   "metadata": {},
   "outputs": [
    {
     "data": {
      "text/plain": [
       "-5.773159728050814e-17"
      ]
     },
     "execution_count": 172,
     "metadata": {},
     "output_type": "execute_result"
    }
   ],
   "source": [
    "np.mean(X[:,0]) # 均值约为0"
   ]
  },
  {
   "cell_type": "code",
   "execution_count": 173,
   "metadata": {},
   "outputs": [
    {
     "data": {
      "text/plain": [
       "1.0"
      ]
     },
     "execution_count": 173,
     "metadata": {},
     "output_type": "execute_result"
    }
   ],
   "source": [
    "np.std(X[:,0]) # 方差约为1"
   ]
  },
  {
   "cell_type": "markdown",
   "metadata": {},
   "source": [
    "# scikit-learn中的数据归一化之Scaler"
   ]
  },
  {
   "cell_type": "code",
   "execution_count": 174,
   "metadata": {},
   "outputs": [],
   "source": [
    "import numpy as np\n",
    "from sklearn import datasets\n",
    "\n",
    "iris = datasets.load_iris()\n",
    "X = iris.data\n",
    "y = iris.target\n",
    "\n",
    "from sklearn.model_selection import train_test_split\n",
    "\n",
    "X_train, X_test, y_train, y_test = train_test_split(X, y, test_size=0.2, random_state=666)"
   ]
  },
  {
   "cell_type": "markdown",
   "metadata": {},
   "source": [
    "## StandardScaler"
   ]
  },
  {
   "cell_type": "code",
   "execution_count": 175,
   "metadata": {},
   "outputs": [
    {
     "data": {
      "text/plain": [
       "StandardScaler(copy=True, with_mean=True, with_std=True)"
      ]
     },
     "execution_count": 175,
     "metadata": {},
     "output_type": "execute_result"
    }
   ],
   "source": [
    "from sklearn.preprocessing import StandardScaler\n",
    "standardScaler = StandardScaler()\n",
    "standardScaler.fit(X_train) # 先fit, 再transform"
   ]
  },
  {
   "cell_type": "code",
   "execution_count": 176,
   "metadata": {},
   "outputs": [
    {
     "data": {
      "text/plain": [
       "array([5.83416667, 3.08666667, 3.70833333, 1.17      ])"
      ]
     },
     "execution_count": 176,
     "metadata": {},
     "output_type": "execute_result"
    }
   ],
   "source": [
    "standardScaler.mean_"
   ]
  },
  {
   "cell_type": "code",
   "execution_count": 177,
   "metadata": {},
   "outputs": [
    {
     "data": {
      "text/plain": [
       "array([0.81019502, 0.44327067, 1.76401924, 0.75317107])"
      ]
     },
     "execution_count": 177,
     "metadata": {},
     "output_type": "execute_result"
    }
   ],
   "source": [
    "standardScaler.scale_"
   ]
  },
  {
   "cell_type": "code",
   "execution_count": 178,
   "metadata": {},
   "outputs": [],
   "source": [
    "X_train_standard = standardScaler.transform(X_train)"
   ]
  },
  {
   "cell_type": "code",
   "execution_count": 179,
   "metadata": {},
   "outputs": [],
   "source": [
    "X_test_standard = standardScaler.transform(X_test) # 测试数据集的mean, std得用训练数据的mean, std, 因为再现实情况中, mean, std不好求, 有时候一次来一个样本, 计算不了mean, std"
   ]
  },
  {
   "cell_type": "code",
   "execution_count": 180,
   "metadata": {},
   "outputs": [
    {
     "data": {
      "text/plain": [
       "1.0"
      ]
     },
     "execution_count": 180,
     "metadata": {},
     "output_type": "execute_result"
    }
   ],
   "source": [
    "# 对归一化后的测试数据集进行精度测试\n",
    "from sklearn.neighbors import KNeighborsClassifier\n",
    "from sklearn.metrics import accuracy_score\n",
    "\n",
    "knn_clf = KNeighborsClassifier(n_neighbors=3)\n",
    "knn_clf.fit(X_train_standard, y_train)\n",
    "knn_clf.score(X_test_standard, y_test)"
   ]
  },
  {
   "cell_type": "markdown",
   "metadata": {},
   "source": [
    "### 测试自己写的StandardScaler"
   ]
  },
  {
   "cell_type": "code",
   "execution_count": 229,
   "metadata": {},
   "outputs": [],
   "source": [
    "from preprocessing import StandardScaler"
   ]
  },
  {
   "cell_type": "code",
   "execution_count": 237,
   "metadata": {},
   "outputs": [
    {
     "data": {
      "text/plain": [
       "<preprocessing.StandardScaler at 0x23d3601e6d8>"
      ]
     },
     "execution_count": 237,
     "metadata": {},
     "output_type": "execute_result"
    }
   ],
   "source": [
    "standardScaler = StandardScaler()\n",
    "standardScaler.fit(X_train)"
   ]
  },
  {
   "cell_type": "code",
   "execution_count": 240,
   "metadata": {},
   "outputs": [
    {
     "data": {
      "text/plain": [
       "1.0"
      ]
     },
     "execution_count": 240,
     "metadata": {},
     "output_type": "execute_result"
    }
   ],
   "source": [
    "X_train_standard = standardScaler.transform(X_train)\n",
    "X_test_standard = standardScaler.transform(X_test)\n",
    "knn_clf = KNeighborsClassifier(n_neighbors=3)\n",
    "knn_clf.fit(X_train_standard, y_train)\n",
    "knn_clf.score(X_test_standard, y_test)"
   ]
  },
  {
   "cell_type": "markdown",
   "metadata": {},
   "source": [
    "## MaxMinScaler"
   ]
  },
  {
   "cell_type": "code",
   "execution_count": 242,
   "metadata": {},
   "outputs": [],
   "source": [
    "from sklearn.preprocessing import MaxAbsScaler\n",
    "maxAbsScaler = MaxAbsScaler()"
   ]
  },
  {
   "cell_type": "code",
   "execution_count": 243,
   "metadata": {},
   "outputs": [
    {
     "data": {
      "text/plain": [
       "MaxAbsScaler(copy=True)"
      ]
     },
     "execution_count": 243,
     "metadata": {},
     "output_type": "execute_result"
    }
   ],
   "source": [
    "maxAbsScaler.fit(X_train)"
   ]
  },
  {
   "cell_type": "code",
   "execution_count": 245,
   "metadata": {},
   "outputs": [
    {
     "data": {
      "text/plain": [
       "1.0"
      ]
     },
     "execution_count": 245,
     "metadata": {},
     "output_type": "execute_result"
    }
   ],
   "source": [
    "X_train_m = maxAbsScaler.transform(X_train)\n",
    "X_test_m = maxAbsScaler.transform(X_test)\n",
    "knn_clf = KNeighborsClassifier(n_neighbors=3)\n",
    "knn_clf.fit(X_train_m, y_train)\n",
    "knn_clf.score(X_test_m, y_test)"
   ]
  }
 ],
 "metadata": {
  "kernelspec": {
   "display_name": "Python 3",
   "language": "python",
   "name": "python3"
  },
  "language_info": {
   "codemirror_mode": {
    "name": "ipython",
    "version": 3
   },
   "file_extension": ".py",
   "mimetype": "text/x-python",
   "name": "python",
   "nbconvert_exporter": "python",
   "pygments_lexer": "ipython3",
   "version": "3.7.3"
  }
 },
 "nbformat": 4,
 "nbformat_minor": 2
}
