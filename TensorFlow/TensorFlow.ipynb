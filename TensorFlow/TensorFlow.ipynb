{
 "cells": [
  {
   "cell_type": "markdown",
   "metadata": {},
   "source": [
    "# TensorFlow\n",
    "- Tensor(张量) 边\n",
    "- Operation(操作) 结点, Tensor是Operation的输入, Operation的输出是Tensor\n",
    "\n",
    "## 基础模型\n",
    "- 数据模型: Tensor\n",
    "- 计算模型: Graph\n",
    "- 运行模型: Session\n",
    "\n",
    "数据  流    图    \n",
    "Data Flow Graph    \n",
    "\n",
    "## TensorFlow 程序的流程\n",
    "1. 定义算法的 **计算图 (Graph)** 结构\n",
    "2. 使用 **会话 (Session)** 执行计算\n",
    "\n",
    "## 张量\n",
    "### 张量的维度(秩): Rank/Order\n",
    "- Order 0: Scalar 标量\n",
    "- Order 1: Vector 向量\n",
    "- Order 2: Matrix 矩阵\n",
    "- Order 3: Tensor 张量\n",
    "- Order 4: ...\n",
    "  \n",
    "### 属性\n",
    "- 一个张量里的元素的数据类型(dtype)都应该是一样的\n",
    "- 形状(shape)\n",
    "- 所属的图\n",
    "- op: 生成这个tensor的操作\n",
    "\n",
    "## 种类\n",
    "- Constant常量 值不能改变\n",
    "- Variable变量 \n",
    "- Placeholder占位符 \n",
    "- SparseTensor稀疏张量\n",
    "Tensor表示法: <类型 '名字(依次增加):索引(第一个是0, 由计算产生的为1)' shape dtype>\n",
    "\n",
    "## 问题\n",
    "### Variable为什么要初始化?\n",
    "在TensorFlow的世界里, 变量的定义和初始化时分开的, 所有关于图变量的赋值和计算都要通过tf.Session的run来进行, 想要将所有图变量进行集体初始化时应该使用tf.global_variables_initializer"
   ]
  },
  {
   "cell_type": "code",
   "execution_count": 7,
   "metadata": {},
   "outputs": [],
   "source": [
    "import tensorflow as tf"
   ]
  },
  {
   "cell_type": "code",
   "execution_count": 6,
   "metadata": {},
   "outputs": [
    {
     "name": "stdout",
     "output_type": "stream",
     "text": [
      "b'I love ML & DL'\n"
     ]
    }
   ],
   "source": [
    "# 创建一个常量 Operation\n",
    "hw = tf.constant(\"I love ML & DL\")\n",
    "# 启动一个Session\n",
    "sess = tf.Session()\n",
    "# 运行Graph(计算图)\n",
    "print(sess.run(hw))\n",
    "# 关闭Session\n",
    "sess.close()"
   ]
  },
  {
   "cell_type": "code",
   "execution_count": 19,
   "metadata": {},
   "outputs": [
    {
     "data": {
      "text/plain": [
       "<tf.Tensor 'Const_13:0' shape=() dtype=int32>"
      ]
     },
     "execution_count": 19,
     "metadata": {},
     "output_type": "execute_result"
    }
   ],
   "source": [
    "const = tf.constant(3)\n",
    "const"
   ]
  },
  {
   "cell_type": "code",
   "execution_count": 24,
   "metadata": {},
   "outputs": [
    {
     "data": {
      "text/plain": [
       "<tf.Variable 'Variable_6:0' shape=() dtype=int64_ref>"
      ]
     },
     "execution_count": 24,
     "metadata": {},
     "output_type": "execute_result"
    }
   ],
   "source": [
    "var = tf.Variable(3, dtype=tf.int64)\n",
    "var"
   ]
  },
  {
   "cell_type": "code",
   "execution_count": 26,
   "metadata": {},
   "outputs": [
    {
     "name": "stdout",
     "output_type": "stream",
     "text": [
      "[[259.42975 267.55957 267.0061  ... 269.14648 262.67294 271.66284]\n",
      " [259.22772 268.62836 266.57135 ... 269.48746 263.523   266.5966 ]\n",
      " [255.65384 267.09546 258.18762 ... 263.75217 259.6052  260.75812]\n",
      " ...\n",
      " [257.91187 262.32217 263.26337 ... 267.7145  254.86276 261.7194 ]\n",
      " [246.22934 259.64316 255.56033 ... 259.74805 254.73077 253.89532]\n",
      " [257.8649  257.61487 263.70514 ... 264.82117 262.85577 260.62558]]\n"
     ]
    }
   ],
   "source": [
    "import numpy as np\n",
    "x = tf.placeholder(tf.float32, shape=(1024, 1024))\n",
    "y = tf.matmul(x, x)\n",
    "with tf.Session() as sess:\n",
    "    rand_array = np.random.rand(1024, 1024)\n",
    "    print(sess.run(y, feed_dict={x: rand_array}))"
   ]
  },
  {
   "cell_type": "code",
   "execution_count": 34,
   "metadata": {},
   "outputs": [
    {
     "data": {
      "text/plain": [
       "SparseTensorValue(indices=array([[0, 0],\n",
       "       [1, 2]], dtype=int64), values=array([1, 2]), dense_shape=array([3, 4], dtype=int64))"
      ]
     },
     "execution_count": 34,
     "metadata": {},
     "output_type": "execute_result"
    }
   ],
   "source": [
    "st = tf.SparseTensor(indices=[[0,0], [1,2]], values=[1,2], dense_shape=[3,4])"
   ]
  },
  {
   "cell_type": "code",
   "execution_count": 31,
   "metadata": {},
   "outputs": [
    {
     "data": {
      "text/plain": [
       "<function tensorflow.python.framework.ops.get_default_graph()>"
      ]
     },
     "execution_count": 31,
     "metadata": {},
     "output_type": "execute_result"
    }
   ],
   "source": [
    "# graph\n",
    "c = tf.constant([[2,3],[4,5]], name='const1', dtype=tf.int64)\n",
    "tf.get_default_graph"
   ]
  },
  {
   "cell_type": "code",
   "execution_count": 42,
   "metadata": {},
   "outputs": [
    {
     "name": "stdout",
     "output_type": "stream",
     "text": [
      "[[16]]\n",
      "<tensorflow.python.framework.ops.Graph object at 0x000001D2454B0D30>\n"
     ]
    }
   ],
   "source": [
    "import tensorflow as tf\n",
    "\n",
    "const1 = tf.constant([[2,2]])\n",
    "const2 = tf.constant([[4],[4]])\n",
    "\n",
    "multp = tf.matmul(const1, const2)\n",
    "with tf.Session() as sess:\n",
    "    result = sess.run(multp)\n",
    "    print(result)\n",
    "    print(sess.graph)"
   ]
  },
  {
   "cell_type": "markdown",
   "metadata": {},
   "source": [
    "### tensorboard"
   ]
  },
  {
   "cell_type": "code",
   "execution_count": 49,
   "metadata": {},
   "outputs": [
    {
     "name": "stdout",
     "output_type": "stream",
     "text": [
      "<tensorflow.python.framework.ops.Graph object at 0x000001D2454B0D30>\n",
      "<tensorflow.python.framework.ops.Graph object at 0x000001D2454B0D30>\n",
      "7.0\n"
     ]
    }
   ],
   "source": [
    "import tensorflow as tf\n",
    "\n",
    "W = tf.Variable(2.0, dtype=tf.float32, name=\"Weight\") # 只是定义, 还没有初始化, 没有为此变量分配任何内容, 不知道把它放在哪个设备上(CPU或GPU或TPU)\n",
    "b = tf.Variable(1.0, dtype=tf.float32, name=\"Bias\") # 偏差\n",
    "x = tf.placeholder(dtype=tf.float32, name=\"Input\")\n",
    "\n",
    "with tf.name_scope(\"Output\"): # 输出的命名空间\n",
    "    y = W * x + b\n",
    "    \n",
    "# 定义保存日志的路径\n",
    "path = \"./log\"\n",
    "\n",
    "# 创建用于初始化所有变量的操作\n",
    "init = tf.global_variables_initializer()\n",
    "\n",
    "# 创建Session\n",
    "with tf.Session() as sess:\n",
    "    sess.run(init) # 初始化变量\n",
    "    writer = tf.summary.FileWriter(path, sess.graph)\n",
    "    result = sess.run(y, {x: 3.0})\n",
    "    print(result)"
   ]
  },
  {
   "cell_type": "code",
   "execution_count": 45,
   "metadata": {},
   "outputs": [
    {
     "name": "stdout",
     "output_type": "stream",
     "text": [
      "events.out.tfevents.1563413460.DESKTOP-HOAFHDT\n",
      "events.out.tfevents.1563413538.DESKTOP-HOAFHDT\n"
     ]
    }
   ],
   "source": [
    "!ls log/"
   ]
  }
 ],
 "metadata": {
  "kernelspec": {
   "display_name": "Python 3",
   "language": "python",
   "name": "python3"
  },
  "language_info": {
   "codemirror_mode": {
    "name": "ipython",
    "version": 3
   },
   "file_extension": ".py",
   "mimetype": "text/x-python",
   "name": "python",
   "nbconvert_exporter": "python",
   "pygments_lexer": "ipython3",
   "version": "3.7.3"
  }
 },
 "nbformat": 4,
 "nbformat_minor": 2
}
